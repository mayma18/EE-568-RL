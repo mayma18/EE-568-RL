{
 "cells": [
  {
   "cell_type": "code",
   "execution_count": 2,
   "id": "dc6c8da5",
   "metadata": {},
   "outputs": [],
   "source": [
    "import pandas as pd"
   ]
  },
  {
   "cell_type": "code",
   "execution_count": null,
   "id": "13b6cf79",
   "metadata": {},
   "outputs": [],
   "source": [
    "data = pd.read_csv('trajectory_pairs.csv')\n",
    "\n",
    "column_name_list = data.columns\n",
    "\n",
    "# 判断是否有该类数据\n",
    "assert \"rejected\" in column_name_list,  \"Column 'rejected' not found in the CSV file.\"\n",
    "assert \"preferred\" in column_name_list, \"Column 'preferred' not found in the CSV file.\"\n",
    "\n"
   ]
  }
 ],
 "metadata": {
  "kernelspec": {
   "display_name": "Python 3",
   "language": "python",
   "name": "python3"
  },
  "language_info": {
   "codemirror_mode": {
    "name": "ipython",
    "version": 3
   },
   "file_extension": ".py",
   "mimetype": "text/x-python",
   "name": "python",
   "nbconvert_exporter": "python",
   "pygments_lexer": "ipython3",
   "version": "3.12.6"
  }
 },
 "nbformat": 4,
 "nbformat_minor": 5
}
